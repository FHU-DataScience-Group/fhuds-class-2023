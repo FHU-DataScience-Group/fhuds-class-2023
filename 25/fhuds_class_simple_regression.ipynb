{
  "nbformat": 4,
  "nbformat_minor": 0,
  "metadata": {
    "colab": {
      "provenance": []
    },
    "kernelspec": {
      "name": "python3",
      "display_name": "Python 3"
    },
    "language_info": {
      "name": "python"
    }
  },
  "cells": [
    {
      "cell_type": "markdown",
      "source": [
        "# 勾配降下法による単回帰モデルの学習を自動微分ライブラリ（PyTorch）を用いて実装した例"
      ],
      "metadata": {
        "id": "p50N6YdD1KbP"
      }
    },
    {
      "cell_type": "markdown",
      "source": [
        "## モジュールのインストール\n",
        "Google Colabに標準でインストールされていないモジュールを最初にインストールしておく"
      ],
      "metadata": {
        "id": "LNw3lTuI1QHB"
      }
    },
    {
      "cell_type": "code",
      "execution_count": 1,
      "metadata": {
        "colab": {
          "base_uri": "https://localhost:8080/"
        },
        "id": "UJWXOSJk0LyM",
        "outputId": "b3be082a-1f2e-464e-db5e-8fee8fd4d45a"
      },
      "outputs": [
        {
          "output_type": "stream",
          "name": "stdout",
          "text": [
            "Collecting torchviz\n",
            "  Downloading torchviz-0.0.2.tar.gz (4.9 kB)\n",
            "  Preparing metadata (setup.py) ... \u001b[?25l\u001b[?25hdone\n",
            "Requirement already satisfied: torch in /usr/local/lib/python3.10/dist-packages (from torchviz) (2.1.0+cu121)\n",
            "Requirement already satisfied: graphviz in /usr/local/lib/python3.10/dist-packages (from torchviz) (0.20.1)\n",
            "Requirement already satisfied: filelock in /usr/local/lib/python3.10/dist-packages (from torch->torchviz) (3.13.1)\n",
            "Requirement already satisfied: typing-extensions in /usr/local/lib/python3.10/dist-packages (from torch->torchviz) (4.5.0)\n",
            "Requirement already satisfied: sympy in /usr/local/lib/python3.10/dist-packages (from torch->torchviz) (1.12)\n",
            "Requirement already satisfied: networkx in /usr/local/lib/python3.10/dist-packages (from torch->torchviz) (3.2.1)\n",
            "Requirement already satisfied: jinja2 in /usr/local/lib/python3.10/dist-packages (from torch->torchviz) (3.1.2)\n",
            "Requirement already satisfied: fsspec in /usr/local/lib/python3.10/dist-packages (from torch->torchviz) (2023.6.0)\n",
            "Requirement already satisfied: triton==2.1.0 in /usr/local/lib/python3.10/dist-packages (from torch->torchviz) (2.1.0)\n",
            "Requirement already satisfied: MarkupSafe>=2.0 in /usr/local/lib/python3.10/dist-packages (from jinja2->torch->torchviz) (2.1.3)\n",
            "Requirement already satisfied: mpmath>=0.19 in /usr/local/lib/python3.10/dist-packages (from sympy->torch->torchviz) (1.3.0)\n",
            "Building wheels for collected packages: torchviz\n",
            "  Building wheel for torchviz (setup.py) ... \u001b[?25l\u001b[?25hdone\n",
            "  Created wheel for torchviz: filename=torchviz-0.0.2-py3-none-any.whl size=4131 sha256=f67fe686faa5d92774cc73e1e9060c2bc9ab10a5bd96babedd94dbbe71dcf22d\n",
            "  Stored in directory: /root/.cache/pip/wheels/4c/97/88/a02973217949e0db0c9f4346d154085f4725f99c4f15a87094\n",
            "Successfully built torchviz\n",
            "Installing collected packages: torchviz\n",
            "Successfully installed torchviz-0.0.2\n",
            "Collecting japanize-matplotlib\n",
            "  Downloading japanize-matplotlib-1.1.3.tar.gz (4.1 MB)\n",
            "\u001b[2K     \u001b[90m━━━━━━━━━━━━━━━━━━━━━━━━━━━━━━━━━━━━━━━━\u001b[0m \u001b[32m4.1/4.1 MB\u001b[0m \u001b[31m11.3 MB/s\u001b[0m eta \u001b[36m0:00:00\u001b[0m\n",
            "\u001b[?25h  Preparing metadata (setup.py) ... \u001b[?25l\u001b[?25hdone\n",
            "Requirement already satisfied: matplotlib in /usr/local/lib/python3.10/dist-packages (from japanize-matplotlib) (3.7.1)\n",
            "Requirement already satisfied: contourpy>=1.0.1 in /usr/local/lib/python3.10/dist-packages (from matplotlib->japanize-matplotlib) (1.2.0)\n",
            "Requirement already satisfied: cycler>=0.10 in /usr/local/lib/python3.10/dist-packages (from matplotlib->japanize-matplotlib) (0.12.1)\n",
            "Requirement already satisfied: fonttools>=4.22.0 in /usr/local/lib/python3.10/dist-packages (from matplotlib->japanize-matplotlib) (4.46.0)\n",
            "Requirement already satisfied: kiwisolver>=1.0.1 in /usr/local/lib/python3.10/dist-packages (from matplotlib->japanize-matplotlib) (1.4.5)\n",
            "Requirement already satisfied: numpy>=1.20 in /usr/local/lib/python3.10/dist-packages (from matplotlib->japanize-matplotlib) (1.23.5)\n",
            "Requirement already satisfied: packaging>=20.0 in /usr/local/lib/python3.10/dist-packages (from matplotlib->japanize-matplotlib) (23.2)\n",
            "Requirement already satisfied: pillow>=6.2.0 in /usr/local/lib/python3.10/dist-packages (from matplotlib->japanize-matplotlib) (9.4.0)\n",
            "Requirement already satisfied: pyparsing>=2.3.1 in /usr/local/lib/python3.10/dist-packages (from matplotlib->japanize-matplotlib) (3.1.1)\n",
            "Requirement already satisfied: python-dateutil>=2.7 in /usr/local/lib/python3.10/dist-packages (from matplotlib->japanize-matplotlib) (2.8.2)\n",
            "Requirement already satisfied: six>=1.5 in /usr/local/lib/python3.10/dist-packages (from python-dateutil>=2.7->matplotlib->japanize-matplotlib) (1.16.0)\n",
            "Building wheels for collected packages: japanize-matplotlib\n",
            "  Building wheel for japanize-matplotlib (setup.py) ... \u001b[?25l\u001b[?25hdone\n",
            "  Created wheel for japanize-matplotlib: filename=japanize_matplotlib-1.1.3-py3-none-any.whl size=4120257 sha256=c71eeeef31370667422510dc2426ea2dc1005511250a7ab7ad699067a82b4b18\n",
            "  Stored in directory: /root/.cache/pip/wheels/61/7a/6b/df1f79be9c59862525070e157e62b08eab8ece27c1b68fbb94\n",
            "Successfully built japanize-matplotlib\n",
            "Installing collected packages: japanize-matplotlib\n",
            "Successfully installed japanize-matplotlib-1.1.3\n"
          ]
        }
      ],
      "source": [
        "!pip install torchviz\n",
        "!pip install japanize-matplotlib"
      ]
    },
    {
      "cell_type": "markdown",
      "source": [
        "## 必要なモジュールの読み込み\n",
        "\n",
        "可視化用のモジュール (Matplotlib) と自動微分の計算用モジュール (PyTorch)"
      ],
      "metadata": {
        "id": "87VWfppK1fW-"
      }
    },
    {
      "cell_type": "code",
      "source": [
        "from tqdm import tqdm\n",
        "from matplotlib import pyplot as plt\n",
        "import japanize_matplotlib\n",
        "\n",
        "import torch\n",
        "from torch import nn\n",
        "from torch import optim\n",
        "from torch.nn import functional as F\n",
        "\n",
        "\n",
        "print('PyTorch version: ' + torch.__version__)"
      ],
      "metadata": {
        "colab": {
          "base_uri": "https://localhost:8080/"
        },
        "id": "ZIOgTKZB1Hv8",
        "outputId": "c9851ec5-5388-49a2-998f-f531c07a25c8"
      },
      "execution_count": 2,
      "outputs": [
        {
          "output_type": "stream",
          "name": "stdout",
          "text": [
            "PyTorch version: 2.1.0+cu121\n"
          ]
        }
      ]
    },
    {
      "cell_type": "markdown",
      "source": [
        "## データの準備とプロット\n",
        "\n",
        "第10回講義で使用した錠剤製造後の経過時間と含まれる薬物量の関係のデータ ($N = 5$) を用いる．"
      ],
      "metadata": {
        "id": "tVombLSmGJP8"
      }
    },
    {
      "cell_type": "code",
      "source": [
        "X = torch.tensor([0, 6, 12, 18, 24])\n",
        "t = torch.tensor([104, 102.5, 98.5, 96.4, 94])\n",
        "\n",
        "plt.scatter(X, t)\n",
        "plt.xlim([-4, 30])\n",
        "plt.ylim([90, 110])\n",
        "plt.xlabel('製造後の経過時間 [月]')\n",
        "plt.ylabel('錠剤に含まれる薬物量 [mg]')"
      ],
      "metadata": {
        "colab": {
          "base_uri": "https://localhost:8080/",
          "height": 471
        },
        "id": "oezpjV2X1hyj",
        "outputId": "5732d931-6a4a-4830-da21-f0185f68929c"
      },
      "execution_count": 3,
      "outputs": [
        {
          "output_type": "execute_result",
          "data": {
            "text/plain": [
              "Text(0, 0.5, '錠剤に含まれる薬物量 [mg]')"
            ]
          },
          "metadata": {},
          "execution_count": 3
        },
        {
          "output_type": "display_data",
          "data": {
            "text/plain": [
              "<Figure size 640x480 with 1 Axes>"
            ],
            "image/png": "[encoded data removed]"
          },
          "metadata": {}
        }
      ]
    },
    {
      "cell_type": "markdown",
      "source": [
        "## モデルとデータ間の損失関数 (2乗誤差) の計算グラフを描画\n",
        "\n",
        "* データ： $\\{(x_n, t_n)\\}_{n=1}^N$\n",
        "* モデル: $y = a + bx$\n",
        "* 損失関数：\n",
        "$$\n",
        "\\begin{align*}\n",
        "L(a, b) &= \\sum_{n=1}^N (t_n - y(x_n))^2 \\\\\n",
        "&= \\sum_{n=1}^N \\left\\{t_n - (a + bx_n)\\right\\}^2 \\\\\n",
        "\\end{align*}\n",
        "$$"
      ],
      "metadata": {
        "id": "hD2i3_emGb_Y"
      }
    },
    {
      "cell_type": "code",
      "source": [
        "from torchviz import make_dot\n",
        "\n",
        "# パラメタの初期値を設定（requires_gradは勾配を計算する必要がある変数，つまりパラメタであることを意味する）\n",
        "a = torch.tensor(1.0, requires_grad=True)\n",
        "b = torch.tensor(1.0, requires_grad=True)\n",
        "\n",
        "y_pred = a + b * X\n",
        "loss = torch.sum((y_pred - t) ** 2)\n",
        "\n",
        "# 計算グラフの生成\n",
        "dot = make_dot(loss, params={'a': a, 'b': b, 'loss': loss})\n",
        "dot.graph_attr.update(size='12,24')\n",
        "\n",
        "# 計算グラフの図をファイルに保存\n",
        "dot.render('comp_graph', format='png')\n",
        "dot.render('comp_graph', format='svg')\n",
        "\n",
        "dot"
      ],
      "metadata": {
        "colab": {
          "base_uri": "https://localhost:8080/",
          "height": 614
        },
        "id": "WIYpNYDK4RdF",
        "outputId": "ae581185-b442-40a3-e93c-7ecc91e17484"
      },
      "execution_count": 4,
      "outputs": [
        {
          "output_type": "execute_result",
          "data": {
            "image/svg+xml": "<?xml version=\"1.0\" encoding=\"UTF-8\" standalone=\"no\"?>\n<!DOCTYPE svg PUBLIC \"-//W3C//DTD SVG 1.1//EN\"\n \"http://www.w3.org/Graphics/SVG/1.1/DTD/svg11.dtd\">\n<!-- Generated by graphviz version 2.43.0 (0)\n -->\n<!-- Title: %3 Pages: 1 -->\n<svg width=\"222pt\" height=\"445pt\"\n viewBox=\"0.00 0.00 222.00 445.00\" xmlns=\"http://www.w3.org/2000/svg\" xmlns:xlink=\"http://www.w3.org/1999/xlink\">\n<g id=\"graph0\" class=\"graph\" transform=\"scale(1 1) rotate(0) translate(4 441)\">\n<title>%3</title>\n<polygon fill=\"white\" stroke=\"transparent\" points=\"-4,4 -4,-441 218,-441 218,4 -4,4\"/>\n<!-- 138632123734976 -->\n<g id=\"node1\" class=\"node\">\n<title>138632123734976</title>\n<polygon fill=\"#caff70\" stroke=\"black\" points=\"133.5,-30 79.5,-30 79.5,0 133.5,0 133.5,-30\"/>\n<text text-anchor=\"middle\" x=\"106.5\" y=\"-18\" font-family=\"monospace\" font-size=\"10.00\">loss</text>\n<text text-anchor=\"middle\" x=\"106.5\" y=\"-7\" font-family=\"monospace\" font-size=\"10.00\"> ()</text>\n</g>\n<!-- 138632123675216 -->\n<g id=\"node2\" class=\"node\">\n<title>138632123675216</title>\n<polygon fill=\"lightgrey\" stroke=\"black\" points=\"151,-85 62,-85 62,-66 151,-66 151,-85\"/>\n<text text-anchor=\"middle\" x=\"106.5\" y=\"-73\" font-family=\"monospace\" font-size=\"10.00\">SumBackward0</text>\n</g>\n<!-- 138632123675216&#45;&gt;138632123734976 -->\n<g id=\"edge9\" class=\"edge\">\n<title>138632123675216&#45;&gt;138632123734976</title>\n<path fill=\"none\" stroke=\"black\" d=\"M106.5,-65.87C106.5,-59.11 106.5,-49.35 106.5,-40.26\"/>\n<polygon fill=\"black\" stroke=\"black\" points=\"110,-40.11 106.5,-30.11 103,-40.11 110,-40.11\"/>\n</g>\n<!-- 138632123674832 -->\n<g id=\"node3\" class=\"node\">\n<title>138632123674832</title>\n<polygon fill=\"lightgrey\" stroke=\"black\" points=\"151,-140 62,-140 62,-121 151,-121 151,-140\"/>\n<text text-anchor=\"middle\" x=\"106.5\" y=\"-128\" font-family=\"monospace\" font-size=\"10.00\">PowBackward0</text>\n</g>\n<!-- 138632123674832&#45;&gt;138632123675216 -->\n<g id=\"edge1\" class=\"edge\">\n<title>138632123674832&#45;&gt;138632123675216</title>\n<path fill=\"none\" stroke=\"black\" d=\"M106.5,-120.75C106.5,-113.8 106.5,-103.85 106.5,-95.13\"/>\n<polygon fill=\"black\" stroke=\"black\" points=\"110,-95.09 106.5,-85.09 103,-95.09 110,-95.09\"/>\n</g>\n<!-- 138632123674976 -->\n<g id=\"node4\" class=\"node\">\n<title>138632123674976</title>\n<polygon fill=\"lightgrey\" stroke=\"black\" points=\"151,-195 62,-195 62,-176 151,-176 151,-195\"/>\n<text text-anchor=\"middle\" x=\"106.5\" y=\"-183\" font-family=\"monospace\" font-size=\"10.00\">SubBackward0</text>\n</g>\n<!-- 138632123674976&#45;&gt;138632123674832 -->\n<g id=\"edge2\" class=\"edge\">\n<title>138632123674976&#45;&gt;138632123674832</title>\n<path fill=\"none\" stroke=\"black\" d=\"M106.5,-175.75C106.5,-168.8 106.5,-158.85 106.5,-150.13\"/>\n<polygon fill=\"black\" stroke=\"black\" points=\"110,-150.09 106.5,-140.09 103,-150.09 110,-150.09\"/>\n</g>\n<!-- 138632123675072 -->\n<g id=\"node5\" class=\"node\">\n<title>138632123675072</title>\n<polygon fill=\"lightgrey\" stroke=\"black\" points=\"151,-250 62,-250 62,-231 151,-231 151,-250\"/>\n<text text-anchor=\"middle\" x=\"106.5\" y=\"-238\" font-family=\"monospace\" font-size=\"10.00\">AddBackward0</text>\n</g>\n<!-- 138632123675072&#45;&gt;138632123674976 -->\n<g id=\"edge3\" class=\"edge\">\n<title>138632123675072&#45;&gt;138632123674976</title>\n<path fill=\"none\" stroke=\"black\" d=\"M106.5,-230.75C106.5,-223.8 106.5,-213.85 106.5,-205.13\"/>\n<polygon fill=\"black\" stroke=\"black\" points=\"110,-205.09 106.5,-195.09 103,-205.09 110,-205.09\"/>\n</g>\n<!-- 138632123674688 -->\n<g id=\"node6\" class=\"node\">\n<title>138632123674688</title>\n<polygon fill=\"lightgrey\" stroke=\"black\" points=\"101,-305 0,-305 0,-286 101,-286 101,-305\"/>\n<text text-anchor=\"middle\" x=\"50.5\" y=\"-293\" font-family=\"monospace\" font-size=\"10.00\">AccumulateGrad</text>\n</g>\n<!-- 138632123674688&#45;&gt;138632123675072 -->\n<g id=\"edge4\" class=\"edge\">\n<title>138632123674688&#45;&gt;138632123675072</title>\n<path fill=\"none\" stroke=\"black\" d=\"M59.5,-285.98C67.69,-278.23 80.01,-266.58 89.97,-257.14\"/>\n<polygon fill=\"black\" stroke=\"black\" points=\"92.48,-259.59 97.34,-250.17 87.67,-254.5 92.48,-259.59\"/>\n</g>\n<!-- 138632123399392 -->\n<g id=\"node7\" class=\"node\">\n<title>138632123399392</title>\n<polygon fill=\"lightblue\" stroke=\"black\" points=\"77.5,-371 23.5,-371 23.5,-341 77.5,-341 77.5,-371\"/>\n<text text-anchor=\"middle\" x=\"50.5\" y=\"-359\" font-family=\"monospace\" font-size=\"10.00\">a</text>\n<text text-anchor=\"middle\" x=\"50.5\" y=\"-348\" font-family=\"monospace\" font-size=\"10.00\"> ()</text>\n</g>\n<!-- 138632123399392&#45;&gt;138632123674688 -->\n<g id=\"edge5\" class=\"edge\">\n<title>138632123399392&#45;&gt;138632123674688</title>\n<path fill=\"none\" stroke=\"black\" d=\"M50.5,-340.84C50.5,-333.21 50.5,-323.7 50.5,-315.45\"/>\n<polygon fill=\"black\" stroke=\"black\" points=\"54,-315.27 50.5,-305.27 47,-315.27 54,-315.27\"/>\n</g>\n<!-- 138632123674736 -->\n<g id=\"node8\" class=\"node\">\n<title>138632123674736</title>\n<polygon fill=\"lightgrey\" stroke=\"black\" points=\"208,-305 119,-305 119,-286 208,-286 208,-305\"/>\n<text text-anchor=\"middle\" x=\"163.5\" y=\"-293\" font-family=\"monospace\" font-size=\"10.00\">MulBackward0</text>\n</g>\n<!-- 138632123674736&#45;&gt;138632123675072 -->\n<g id=\"edge6\" class=\"edge\">\n<title>138632123674736&#45;&gt;138632123675072</title>\n<path fill=\"none\" stroke=\"black\" d=\"M154.34,-285.98C146,-278.23 133.47,-266.58 123.32,-257.14\"/>\n<polygon fill=\"black\" stroke=\"black\" points=\"125.53,-254.42 115.82,-250.17 120.76,-259.54 125.53,-254.42\"/>\n</g>\n<!-- 138632123674640 -->\n<g id=\"node9\" class=\"node\">\n<title>138632123674640</title>\n<polygon fill=\"lightgrey\" stroke=\"black\" points=\"214,-365.5 113,-365.5 113,-346.5 214,-346.5 214,-365.5\"/>\n<text text-anchor=\"middle\" x=\"163.5\" y=\"-353.5\" font-family=\"monospace\" font-size=\"10.00\">AccumulateGrad</text>\n</g>\n<!-- 138632123674640&#45;&gt;138632123674736 -->\n<g id=\"edge7\" class=\"edge\">\n<title>138632123674640&#45;&gt;138632123674736</title>\n<path fill=\"none\" stroke=\"black\" d=\"M163.5,-346.37C163.5,-338.25 163.5,-325.81 163.5,-315.39\"/>\n<polygon fill=\"black\" stroke=\"black\" points=\"167,-315.17 163.5,-305.17 160,-315.17 167,-315.17\"/>\n</g>\n<!-- 138632123157136 -->\n<g id=\"node10\" class=\"node\">\n<title>138632123157136</title>\n<polygon fill=\"lightblue\" stroke=\"black\" points=\"190.5,-437 136.5,-437 136.5,-407 190.5,-407 190.5,-437\"/>\n<text text-anchor=\"middle\" x=\"163.5\" y=\"-425\" font-family=\"monospace\" font-size=\"10.00\">b</text>\n<text text-anchor=\"middle\" x=\"163.5\" y=\"-414\" font-family=\"monospace\" font-size=\"10.00\"> ()</text>\n</g>\n<!-- 138632123157136&#45;&gt;138632123674640 -->\n<g id=\"edge8\" class=\"edge\">\n<title>138632123157136&#45;&gt;138632123674640</title>\n<path fill=\"none\" stroke=\"black\" d=\"M163.5,-406.8C163.5,-397.7 163.5,-385.79 163.5,-375.9\"/>\n<polygon fill=\"black\" stroke=\"black\" points=\"167,-375.84 163.5,-365.84 160,-375.84 167,-375.84\"/>\n</g>\n</g>\n</svg>\n",
            "text/plain": [
              "<graphviz.graphs.Digraph at 0x7e15ce7c7280>"
            ]
          },
          "metadata": {},
          "execution_count": 4
        }
      ]
    },
    {
      "cell_type": "code",
      "source": [
        "loss"
      ],
      "metadata": {
        "colab": {
          "base_uri": "https://localhost:8080/"
        },
        "id": "pywn-hbb5bac",
        "outputId": "3f77f156-991f-455d-fd2a-65f6e020fdf5"
      },
      "execution_count": 5,
      "outputs": [
        {
          "output_type": "execute_result",
          "data": {
            "text/plain": [
              "tensor(37791.2617, grad_fn=<SumBackward0>)"
            ]
          },
          "metadata": {},
          "execution_count": 5
        }
      ]
    },
    {
      "cell_type": "markdown",
      "source": [
        "## 勾配降下法による学習（損失関数を最小にする $a, b$ を探す）\n"
      ],
      "metadata": {
        "id": "qJhUY92qHidk"
      }
    },
    {
      "cell_type": "code",
      "source": [
        "# 学習率\n",
        "lr = 1e-4\n",
        "\n",
        "# パラメタの初期値を設定（requires_gradは勾配を計算する必要がある変数，つまりパラメタであることを意味する）\n",
        "a = torch.tensor(1.0, requires_grad=True)\n",
        "b = torch.tensor(1.0, requires_grad=True)\n",
        "\n",
        "# 勾配降下法の実行\n",
        "for k in tqdm(range(50000)):\n",
        "    # 各入力データに対するモデル予測の計算\n",
        "    y_pred = a + b * X\n",
        "    # 損失関数の計算（モデルによる予測とデータの2乗誤差を計算する）\n",
        "    loss = torch.sum((y_pred - t) ** 2)\n",
        "\n",
        "    # 計算グラフを loss ノードから a, b, ノードに向かって逆に辿ることで微分値を計算\n",
        "    a.grad = torch.tensor(0.0)\n",
        "    b.grad = torch.tensor(0.0)\n",
        "    loss.backward()\n",
        "\n",
        "    # 自動微分によって計算した微分値でパラメタの値を更新する\n",
        "    # (ここでは計算グラフを作らないようにするため with torch.no_grad() の中で行う)\n",
        "    with torch.no_grad():\n",
        "        a -= lr * a.grad\n",
        "        b -= lr * b.grad"
      ],
      "metadata": {
        "colab": {
          "base_uri": "https://localhost:8080/"
        },
        "id": "VbwKZhvA5JID",
        "outputId": "fe8934dc-37e8-4aa9-bb84-219bb79ea6b4"
      },
      "execution_count": 6,
      "outputs": [
        {
          "output_type": "stream",
          "name": "stderr",
          "text": [
            "100%|██████████| 50000/50000 [00:18<00:00, 2714.44it/s]\n"
          ]
        }
      ]
    },
    {
      "cell_type": "code",
      "source": [
        "# パラメタの学習結果\n",
        "a, b"
      ],
      "metadata": {
        "colab": {
          "base_uri": "https://localhost:8080/"
        },
        "id": "UK373HCh5UlD",
        "outputId": "ab058a8b-8f3d-4695-ca5c-c5800118dd51"
      },
      "execution_count": 7,
      "outputs": [
        {
          "output_type": "execute_result",
          "data": {
            "text/plain": [
              "(tensor(104.2886, requires_grad=True), tensor(-0.4344, requires_grad=True))"
            ]
          },
          "metadata": {},
          "execution_count": 7
        }
      ]
    },
    {
      "cell_type": "markdown",
      "source": [
        "## 学習したパラメタを使って回帰直線を描画する"
      ],
      "metadata": {
        "id": "ivpJI4P4H2mr"
      }
    },
    {
      "cell_type": "code",
      "source": [
        "minval, maxval = -5.0, 30.0\n",
        "n_samples = 1000\n",
        "\n",
        "xx = torch.linspace(minval, maxval, n_samples)\n",
        "\n",
        "with torch.no_grad():\n",
        "    yy = a + b * xx"
      ],
      "metadata": {
        "id": "cIAwOpTE5Yfl"
      },
      "execution_count": 8,
      "outputs": []
    },
    {
      "cell_type": "code",
      "source": [
        "plt.plot(xx, yy, color='blue')\n",
        "plt.scatter(X, t, marker='+', color='red')\n",
        "\n",
        "plt.title('回帰直線のパラメタ：a = {a:.4f}, b = {b:.4f}'.format(a=a.item(), b=b.item()))\n",
        "plt.xlabel('製造後の経過時間 [月]')\n",
        "plt.ylabel('錠剤に含まれる薬物量 [mg]')"
      ],
      "metadata": {
        "colab": {
          "base_uri": "https://localhost:8080/",
          "height": 488
        },
        "id": "8AWjKpfn5-Di",
        "outputId": "0969e335-1cbf-497e-b6da-91239e14da05"
      },
      "execution_count": 9,
      "outputs": [
        {
          "output_type": "execute_result",
          "data": {
            "text/plain": [
              "Text(0, 0.5, '錠剤に含まれる薬物量 [mg]')"
            ]
          },
          "metadata": {},
          "execution_count": 9
        },
        {
          "output_type": "display_data",
          "data": {
            "text/plain": [
              "<Figure size 640x480 with 1 Axes>"
            ],
            "image/png": "[encoded data removed]"
          },
          "metadata": {}
        }
      ]
    },
    {
      "cell_type": "markdown",
      "source": [
        "---\n",
        "\n",
        "## (付録) 講義スライド掲載用の最小二乗法および自動微分のサンプルコード"
      ],
      "metadata": {
        "id": "kElce2PLEEtM"
      }
    },
    {
      "cell_type": "code",
      "source": [
        "import torch\n",
        "\n",
        "X = torch.tensor([0, 6, 12, 18, 24])\n",
        "t = torch.tensor([104, 102.5, 98.5, 96.4, 94])\n",
        "\n",
        "MAX_ITER = 50000\n",
        "lr = 1e-4\n",
        "\n",
        "# パラメタの初期値を設定\n",
        "# (requires_grad=Trueは勾配を計算したい変数であることを意味する)\n",
        "a = torch.tensor(1.0, requires_grad=True)\n",
        "b = torch.tensor(1.0, requires_grad=True)\n",
        "\n",
        "for k in range(MAX_ITER):\n",
        "    y = a + b * X\n",
        "    loss = torch.sum((y - t) ** 2)\n",
        "\n",
        "    # 計算グラフを loss ノードから\n",
        "    # a, b, ノードに向かって逆に辿ることで微分値を計算\n",
        "    a.grad = torch.tensor(0.0)\n",
        "    b.grad = torch.tensor(0.0)\n",
        "    loss.backward()\n",
        "\n",
        "    with torch.no_grad():\n",
        "        a -= lr * a.grad\n",
        "        b -= lr * b.grad\n",
        "\n",
        "print(a, b)"
      ],
      "metadata": {
        "colab": {
          "base_uri": "https://localhost:8080/"
        },
        "id": "lYaP3Ing6I6l",
        "outputId": "97136a21-8c08-4e17-9b60-5b72a737e3a4"
      },
      "execution_count": 10,
      "outputs": [
        {
          "output_type": "stream",
          "name": "stdout",
          "text": [
            "tensor(104.2886, requires_grad=True) tensor(-0.4344, requires_grad=True)\n"
          ]
        }
      ]
    },
    {
      "cell_type": "code",
      "source": [
        "import torch\n",
        "\n",
        "X = torch.tensor(6)\n",
        "t = torch.tensor(102.5)\n",
        "a = torch.tensor(1.0, requires_grad=True)\n",
        "b = torch.tensor(1.0, requires_grad=True)\n",
        "\n",
        "L = 0.5 * (t - (a + b * X)) ** 2\n",
        "\n",
        "L.backward()\n",
        "print(a.grad, b.grad)"
      ],
      "metadata": {
        "id": "sz0CKjd0A81T",
        "colab": {
          "base_uri": "https://localhost:8080/"
        },
        "outputId": "296af1d9-adca-4063-d349-dd49f8c36c3a"
      },
      "execution_count": 11,
      "outputs": [
        {
          "output_type": "stream",
          "name": "stdout",
          "text": [
            "tensor(-95.5000) tensor(-573.)\n"
          ]
        }
      ]
    }
  ]
}